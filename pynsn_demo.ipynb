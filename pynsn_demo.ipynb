{
 "cells": [
  {
   "cell_type": "code",
   "execution_count": null,
   "id": "0edbdd47",
   "metadata": {},
   "outputs": [],
   "source": [
    "from pynsn import factory"
   ]
  },
  {
   "cell_type": "code",
   "execution_count": null,
   "id": "e064fd3f",
   "metadata": {},
   "outputs": [],
   "source": [
    "da_specs = factory.DotArraySpecs(\n",
    "    target_area_radius=200,\n",
    "    diameter_distribution=factory.distr.Beta(mu=13, sigma=4, min_max=(10,25)),\n",
    "    minimum_gap=2)"
   ]
  },
  {
   "cell_type": "code",
   "execution_count": null,
   "id": "4e909fe1",
   "metadata": {},
   "outputs": [],
   "source": [
    "# Generate random dot array with 55 dots\n",
    "stimulus = factory.random_array(da_specs, 55)"
   ]
  },
  {
   "cell_type": "code",
   "execution_count": null,
   "id": "785ab79a",
   "metadata": {
    "scrolled": true
   },
   "outputs": [],
   "source": [
    "# The dot array is described by a list of positions and diameters \n",
    "print(stimulus.xy)\n",
    "print(stimulus.diameters)"
   ]
  },
  {
   "cell_type": "markdown",
   "id": "2d681101",
   "metadata": {},
   "source": [
    "# Make pictures"
   ]
  },
  {
   "cell_type": "code",
   "execution_count": null,
   "id": "3ee3b63c",
   "metadata": {},
   "outputs": [],
   "source": [
    "from pynsn import ImageColours\n",
    "from pynsn.image import svg, pil\n",
    "\n",
    "# To make picture (pillow), first define some colour features\n",
    "my_colours = ImageColours(target_area=\"#EEEEEE\", background=\"gray\",\n",
    "                         item_colour=\"darkmagenta\") # show named colours see Colour.NAMED_COLOURS\n",
    "pil.create(stimulus, colours=my_colours)"
   ]
  },
  {
   "cell_type": "code",
   "execution_count": null,
   "id": "17da0115",
   "metadata": {},
   "outputs": [],
   "source": [
    "# example: to plot field area and center of mass, just define the repective colours and plot\n",
    "my_colours2 = ImageColours(target_area=None,\n",
    "                          field_area=\"red\",\n",
    "                          field_area_outer=\"green\",\n",
    "                          center_of_mass=\"purple\",\n",
    "                          center_of_outer_positions=\"blue\",\n",
    "                          background=None,\n",
    "                          item_colour=\"darkmagenta\")\n",
    "pil.create(stimulus, colours=my_colours2)"
   ]
  },
  {
   "cell_type": "code",
   "execution_count": null,
   "id": "64d2c86d",
   "metadata": {},
   "outputs": [],
   "source": [
    "# to save the stimulus as vector graphic, generate a SVG stimuli\n",
    "svg_stimulus = svg.create(stimulus, colours=my_colours, filename=\"demo.svg\")\n",
    "svg_stimulus.save()"
   ]
  },
  {
   "cell_type": "markdown",
   "id": "fd8373bd",
   "metadata": {},
   "source": [
    "# Visual Features"
   ]
  },
  {
   "cell_type": "code",
   "execution_count": null,
   "id": "7f8cc4c8",
   "metadata": {},
   "outputs": [],
   "source": [
    "# show properties for the current stimulus\n",
    "print(stimulus)"
   ]
  },
  {
   "cell_type": "code",
   "execution_count": null,
   "id": "0094e328",
   "metadata": {},
   "outputs": [],
   "source": [
    "from pynsn import match\n",
    "\n",
    "# change surface array\n",
    "match.total_surface_area(stimulus, 23000)\n",
    "print(stimulus)"
   ]
  },
  {
   "cell_type": "code",
   "execution_count": null,
   "id": "2f0937a9",
   "metadata": {},
   "outputs": [],
   "source": [
    "pil.create(stimulus, colours=my_colours)"
   ]
  },
  {
   "cell_type": "code",
   "execution_count": null,
   "id": "e4a186ae",
   "metadata": {},
   "outputs": [],
   "source": [
    "# realign dot arry to avoid overlap\n",
    "stimulus.realign()\n",
    "pil.create(stimulus, colours=my_colours)"
   ]
  },
  {
   "cell_type": "code",
   "execution_count": null,
   "id": "1028ad98",
   "metadata": {},
   "outputs": [],
   "source": [
    "# change log_size \n",
    "match.log_size(stimulus, 18)\n",
    "print(stimulus)"
   ]
  },
  {
   "cell_type": "code",
   "execution_count": null,
   "id": "02ab3aa7",
   "metadata": {},
   "outputs": [],
   "source": [
    "pil.create(stimulus, colours=my_colours)"
   ]
  },
  {
   "cell_type": "code",
   "execution_count": null,
   "id": "eda03c30",
   "metadata": {},
   "outputs": [],
   "source": [
    "# change spacing parameter (iterative procedure)\n",
    "match.log_spacing(stimulus, 24,  precision=0.01)\n",
    "print(stimulus)"
   ]
  },
  {
   "cell_type": "code",
   "execution_count": null,
   "id": "2c96ff7f",
   "metadata": {},
   "outputs": [],
   "source": [
    "# as you see the surface area and sparsity (1/density) is smaller\n",
    "pil.create(stimulus, colours=ImageColours(field_area_outer=\"red\"))"
   ]
  },
  {
   "cell_type": "markdown",
   "id": "6c31b6de",
   "metadata": {},
   "source": [
    "# 2 matched stimuli"
   ]
  },
  {
   "cell_type": "code",
   "execution_count": null,
   "id": "c5aaea70",
   "metadata": {},
   "outputs": [],
   "source": [
    "my_colours = ImageColours(target_area=\"#EEEEEE\", item_colour=\"lime\") \n",
    "\n",
    "da_specs2 = factory.DotArraySpecs(\n",
    "    target_area_radius=200,\n",
    "    diameter_distribution=factory.distr.Normal(mu=13, sigma=4, min_max=(10,25)),\n",
    "    minimum_gap=2)\n",
    "\n",
    "stim1 = factory.random_array(da_specs2, 30)\n",
    "stim2 = factory.random_array(da_specs2, 30)"
   ]
  },
  {
   "cell_type": "code",
   "execution_count": null,
   "id": "18d64ec0",
   "metadata": {},
   "outputs": [],
   "source": [
    "stim2"
   ]
  }
 ],
 "metadata": {
  "kernelspec": {
   "display_name": "Python 3 (ipykernel)",
   "language": "python",
   "name": "python3"
  },
  "language_info": {
   "codemirror_mode": {
    "name": "ipython",
    "version": 3
   },
   "file_extension": ".py",
   "mimetype": "text/x-python",
   "name": "python",
   "nbconvert_exporter": "python",
   "pygments_lexer": "ipython3",
   "version": "3.8.10"
  }
 },
 "nbformat": 4,
 "nbformat_minor": 5
}
