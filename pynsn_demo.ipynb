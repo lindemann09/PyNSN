{
 "cells": [
  {
   "cell_type": "code",
   "execution_count": null,
   "id": "0edbdd47",
   "metadata": {},
   "outputs": [],
   "source": [
    "from pynsn import random_dot_array"
   ]
  },
  {
   "cell_type": "code",
   "execution_count": null,
   "id": "e064fd3f",
   "metadata": {},
   "outputs": [],
   "source": [
    "da_specification = random_dot_array.Specs(\n",
    "    target_area_radius=200,\n",
    "    item_diameter_mean=13,\n",
    "    item_diameter_range=(10, 25),\n",
    "    item_diameter_std=4,\n",
    "    item_colour=(50,10,255), # RGB colours\n",
    "    minimum_gap=2)"
   ]
  },
  {
   "cell_type": "code",
   "execution_count": null,
   "id": "4e909fe1",
   "metadata": {},
   "outputs": [],
   "source": [
    "# Generate random dot array with 55 dots\n",
    "rda = random_dot_array.create(55, da_specification)"
   ]
  },
  {
   "cell_type": "code",
   "execution_count": null,
   "id": "785ab79a",
   "metadata": {
    "scrolled": true
   },
   "outputs": [],
   "source": [
    "# dot array bis asically a list of positions and diameters that describes the pattern\n",
    "print(rda.json())"
   ]
  },
  {
   "cell_type": "markdown",
   "id": "2d681101",
   "metadata": {},
   "source": [
    "# Make pictures"
   ]
  },
  {
   "cell_type": "code",
   "execution_count": null,
   "id": "3ee3b63c",
   "metadata": {},
   "outputs": [],
   "source": [
    "from pynsn import ImageColours\n",
    "from pynsn.image import svg, pil\n",
    "\n",
    "# To make picture (pillow), first define some colour features\n",
    "my_colours = ImageColours(target_area=\"#EEEEEE\", background=\"gray\") # show named colours see Colour.NAMED_COLOURS\n",
    "pil.create(rda, colours=my_colours)"
   ]
  },
  {
   "cell_type": "code",
   "execution_count": null,
   "id": "17da0115",
   "metadata": {},
   "outputs": [],
   "source": [
    "# example: to plot field area and center of mass, just define the repective colours and plot\n",
    "my_colours2 = ImageColours(target_area=None,\n",
    "                          field_area=\"red\",\n",
    "                          field_area_outer=\"green\",\n",
    "                          center_of_mass=\"purple\",\n",
    "                          center_of_outer_positions=\"blue\",\n",
    "                          background=None)\n",
    "pil.create(rda, colours=my_colours2)"
   ]
  },
  {
   "cell_type": "code",
   "execution_count": null,
   "id": "64d2c86d",
   "metadata": {},
   "outputs": [],
   "source": [
    "# to save the stimulus as vector graphic, generate a SVG stimuli\n",
    "svg_stimulus = svg.create(rda, colours=my_colours, filename=\"demo.svg\")\n",
    "svg_stimulus.save()"
   ]
  },
  {
   "cell_type": "markdown",
   "id": "fd8373bd",
   "metadata": {},
   "source": [
    "# Visual Features"
   ]
  },
  {
   "cell_type": "code",
   "execution_count": null,
   "id": "7f8cc4c8",
   "metadata": {},
   "outputs": [],
   "source": [
    "# show properties for the current stimulus\n",
    "print(rda)"
   ]
  },
  {
   "cell_type": "code",
   "execution_count": null,
   "id": "0094e328",
   "metadata": {},
   "outputs": [],
   "source": [
    "# change surface array\n",
    "rda.match.total_surface_area(23000)\n",
    "\n",
    "print(rda)"
   ]
  },
  {
   "cell_type": "code",
   "execution_count": null,
   "id": "2f0937a9",
   "metadata": {},
   "outputs": [],
   "source": [
    "pil.create(rda, colours=ImageColours())"
   ]
  },
  {
   "cell_type": "code",
   "execution_count": null,
   "id": "e4a186ae",
   "metadata": {},
   "outputs": [],
   "source": [
    "# realign dot arry to avoid overlap\n",
    "rda.realign()\n",
    "pil.create(rda, colours=ImageColours())"
   ]
  },
  {
   "cell_type": "code",
   "execution_count": null,
   "id": "1028ad98",
   "metadata": {},
   "outputs": [],
   "source": [
    "# change log_size \n",
    "rda.match.log_size(18)\n",
    "print(rda)"
   ]
  },
  {
   "cell_type": "code",
   "execution_count": null,
   "id": "02ab3aa7",
   "metadata": {},
   "outputs": [],
   "source": [
    "pil.create(rda, colours=ImageColours())"
   ]
  },
  {
   "cell_type": "code",
   "execution_count": null,
   "id": "eda03c30",
   "metadata": {},
   "outputs": [],
   "source": [
    "# change spacing parameter (iterative procedure)\n",
    "rda.match.log_spacing(23,  precision=0.01)\n",
    "print(rda)"
   ]
  },
  {
   "cell_type": "code",
   "execution_count": null,
   "id": "2c96ff7f",
   "metadata": {},
   "outputs": [],
   "source": [
    "# as you see the surface area and sparsity (1/density) is smaller\n",
    "pil.create(rda, colours=ImageColours(field_area_outer=\"red\"))"
   ]
  },
  {
   "cell_type": "code",
   "execution_count": null,
   "id": "57b03b5a",
   "metadata": {},
   "outputs": [],
   "source": []
  }
 ],
 "metadata": {
  "kernelspec": {
   "display_name": "Python 3 (ipykernel)",
   "language": "python",
   "name": "python3"
  },
  "language_info": {
   "codemirror_mode": {
    "name": "ipython",
    "version": 3
   },
   "file_extension": ".py",
   "mimetype": "text/x-python",
   "name": "python",
   "nbconvert_exporter": "python",
   "pygments_lexer": "ipython3",
   "version": "3.8.10"
  }
 },
 "nbformat": 4,
 "nbformat_minor": 5
}
