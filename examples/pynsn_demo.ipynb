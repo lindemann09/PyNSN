{
 "cells": [
  {
   "cell_type": "code",
   "execution_count": 1,
   "id": "0edbdd47",
   "metadata": {},
   "outputs": [
    {
     "name": "stdout",
     "output_type": "stream",
     "text": [
      "PyNSN 0.11.8\n"
     ]
    }
   ],
   "source": [
    "import pynsn as nsn\n",
    "from pynsn import distributions as distr"
   ]
  },
  {
   "cell_type": "markdown",
   "id": "2b378b7a",
   "metadata": {},
   "source": [
    "To generate a random dot array, you have to define\n",
    "\n",
    "1. an NSN factory\n",
    "2. a distribution for the object size "
   ]
  },
  {
   "cell_type": "code",
   "execution_count": null,
   "id": "e064fd3f",
   "metadata": {},
   "outputs": [],
   "source": [
    "factory = nsn.NSNFactory(target_area_radius=150)\n",
    "factory.set_appearance_dot(diameter=distr.Normal(mu=13, sigma=4, min_max=(10,25)))\n"
   ]
  },
  {
   "cell_type": "code",
   "execution_count": null,
   "id": "4e909fe1",
   "metadata": {},
   "outputs": [],
   "source": [
    "# Generate random dot array with 15 dots\n",
    "stimulus = factory.create_random_array(n_objects=15)"
   ]
  },
  {
   "cell_type": "markdown",
   "id": "2d681101",
   "metadata": {},
   "source": [
    "Make picture of the stimulus"
   ]
  },
  {
   "cell_type": "code",
   "execution_count": null,
   "id": "3ee3b63c",
   "metadata": {},
   "outputs": [],
   "source": [
    "from pynsn.image import pil_image\n",
    "pil_image.create(stimulus)"
   ]
  },
  {
   "cell_type": "code",
   "execution_count": null,
   "id": "17da0115",
   "metadata": {},
   "outputs": [],
   "source": [
    "# example: to plot field area and center of mass, just define the repective colours and plot\n",
    "my_colours = nsn.ImageColours(target_area=\"yellow\",\n",
    "                          field_area_positions=\"red\",\n",
    "                          field_area=\"green\",\n",
    "                          center_of_mass=\"purple\",\n",
    "                          center_of_field_area=\"blue\",\n",
    "                          background=\"gray\",\n",
    "                          default_object_colour=\"darkmagenta\")\n",
    "pil_image.create(stimulus, colours=my_colours)"
   ]
  },
  {
   "cell_type": "markdown",
   "id": "db9d290e",
   "metadata": {},
   "source": [
    "# Incremental "
   ]
  },
  {
   "cell_type": "code",
   "execution_count": null,
   "id": "0969029a",
   "metadata": {},
   "outputs": [],
   "source": [
    "factory.target_area_radius=75\n",
    "\n",
    "stim_iterator = factory.create_incremental_random_array(n_objects=20)\n",
    "for stim in stim_iterator:\n",
    "    img = pil_image.create(stim)\n",
    "    display(img)\n",
    "    "
   ]
  }
 ],
 "metadata": {
  "kernelspec": {
   "display_name": "Python 3 (ipykernel)",
   "language": "python",
   "name": "python3"
  },
  "language_info": {
   "codemirror_mode": {
    "name": "ipython",
    "version": 3
   },
   "file_extension": ".py",
   "mimetype": "text/x-python",
   "name": "python",
   "nbconvert_exporter": "python",
   "pygments_lexer": "ipython3",
   "version": "3.8.10"
  }
 },
 "nbformat": 4,
 "nbformat_minor": 5
}
