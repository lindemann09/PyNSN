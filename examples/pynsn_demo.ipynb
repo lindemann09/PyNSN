{
 "cells": [
  {
   "cell_type": "code",
   "execution_count": 1,
   "id": "0edbdd47",
   "metadata": {},
   "outputs": [],
   "source": [
    "from pynsn import arrays, random_array\n",
    "from pynsn import distributions as distr"
   ]
  },
  {
   "cell_type": "markdown",
   "id": "2b378b7a",
   "metadata": {},
   "source": [
    "To generate a random dot array, you have to define\n",
    "\n",
    "1. an empty array as reference.\n",
    "2. a distribution for the object size "
   ]
  },
  {
   "cell_type": "code",
   "execution_count": null,
   "id": "e064fd3f",
   "metadata": {},
   "outputs": [],
   "source": [
    "ref_array = arrays.DotArray(target_area_radius=200, min_dist_between=2)"
   ]
  },
  {
   "cell_type": "code",
   "execution_count": null,
   "id": "eac0326b",
   "metadata": {},
   "outputs": [],
   "source": [
    "size_dist = random_array.SizeDistribution(diameter=distr.Normal(mu=13, sigma=4, min_max=(10,25)))"
   ]
  },
  {
   "cell_type": "code",
   "execution_count": null,
   "id": "4e909fe1",
   "metadata": {},
   "outputs": [],
   "source": [
    "# Generate random dot array with 15 dots\n",
    "stimulus = random_array.create(ref_array, size_dist, n_objects=15)"
   ]
  },
  {
   "cell_type": "code",
   "execution_count": null,
   "id": "785ab79a",
   "metadata": {
    "scrolled": true
   },
   "outputs": [],
   "source": [
    "# The dot array is described by a list of positions and diameters \n",
    "print(stimulus.xy)"
   ]
  },
  {
   "cell_type": "code",
   "execution_count": null,
   "id": "67b6f983",
   "metadata": {},
   "outputs": [],
   "source": [
    "print(stimulus.diameters)"
   ]
  },
  {
   "cell_type": "markdown",
   "id": "2d681101",
   "metadata": {},
   "source": [
    "# Make pictures"
   ]
  },
  {
   "cell_type": "code",
   "execution_count": null,
   "id": "3ee3b63c",
   "metadata": {},
   "outputs": [],
   "source": [
    "from pynsn.image import pil_image, mpl_figure, ImageColours\n",
    "\n",
    "# To make picture (pillow), first define some colour features\n",
    "my_colours = ImageColours(target_area=\"#EEEEEE\", background=\"gray\",\n",
    "                         default_object_colour=\"darkmagenta\") # show named colours see Colour.NAMED_COLOURS\n",
    "pil_image.create(stimulus, colours=my_colours)"
   ]
  },
  {
   "cell_type": "code",
   "execution_count": null,
   "id": "17da0115",
   "metadata": {},
   "outputs": [],
   "source": [
    "# example: to plot field area and center of mass, just define the repective colours and plot\n",
    "my_colours2 = ImageColours(target_area=None,\n",
    "                          field_area_positions=\"red\",\n",
    "                          field_area=\"green\",\n",
    "                          center_of_mass=\"purple\",\n",
    "                          center_of_positions=\"blue\",\n",
    "                          background=None,\n",
    "                          default_object_colour=\"darkmagenta\")\n",
    "pil_image.create(stimulus, colours=my_colours2)"
   ]
  }
 ],
 "metadata": {
  "kernelspec": {
   "display_name": "Python 3 (ipykernel)",
   "language": "python",
   "name": "python3"
  },
  "language_info": {
   "codemirror_mode": {
    "name": "ipython",
    "version": 3
   },
   "file_extension": ".py",
   "mimetype": "text/x-python",
   "name": "python",
   "nbconvert_exporter": "python",
   "pygments_lexer": "ipython3",
   "version": "3.8.10"
  }
 },
 "nbformat": 4,
 "nbformat_minor": 5
}
