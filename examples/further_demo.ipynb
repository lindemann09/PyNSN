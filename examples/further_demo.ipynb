{
 "cells": [
  {
   "cell_type": "code",
   "execution_count": null,
   "id": "0edbdd47",
   "metadata": {},
   "outputs": [],
   "source": [
    "from pynsn import arrays, random_array, distr"
   ]
  },
  {
   "cell_type": "markdown",
   "id": "2b378b7a",
   "metadata": {},
   "source": [
    "To generate a random dot array, you have to define\n",
    "\n",
    "1. an empty array as reference.\n",
    "2. a distribution for the object size "
   ]
  },
  {
   "cell_type": "code",
   "execution_count": null,
   "id": "e064fd3f",
   "metadata": {},
   "outputs": [],
   "source": [
    "ref_array = arrays.DotArray(target_area_radius=200, min_dist_between=2)"
   ]
  },
  {
   "cell_type": "code",
   "execution_count": null,
   "id": "eac0326b",
   "metadata": {},
   "outputs": [],
   "source": [
    "size_dist = random_array.SizeDistribution(diameter=distr.Normal(mu=13, sigma=4, min_max=(10,25)))"
   ]
  },
  {
   "cell_type": "code",
   "execution_count": null,
   "id": "4e909fe1",
   "metadata": {},
   "outputs": [],
   "source": [
    "# Generate random dot array with 15 dots\n",
    "stimulus = random_array.create(ref_array, size_dist, n_objects=15)"
   ]
  },
  {
   "cell_type": "code",
   "execution_count": null,
   "id": "785ab79a",
   "metadata": {
    "scrolled": true
   },
   "outputs": [],
   "source": [
    "# The dot array is described by a list of positions and diameters \n",
    "print(stimulus.xy)"
   ]
  },
  {
   "cell_type": "code",
   "execution_count": null,
   "id": "67b6f983",
   "metadata": {},
   "outputs": [],
   "source": [
    "print(stimulus.diameters)"
   ]
  },
  {
   "cell_type": "markdown",
   "id": "2d681101",
   "metadata": {},
   "source": [
    "# Make pictures"
   ]
  },
  {
   "cell_type": "code",
   "execution_count": null,
   "id": "3ee3b63c",
   "metadata": {},
   "outputs": [],
   "source": [
    "from pynsn.image import pil_image, mpl_figure, ImageColours\n",
    "\n",
    "# To make picture (pillow), first define some colour features\n",
    "my_colours = ImageColours(target_area=\"#EEEEEE\", background=\"gray\",\n",
    "                         default_object_colour=\"darkmagenta\") # show named colours see Colour.NAMED_COLOURS\n",
    "pil_image.create(stimulus, colours=my_colours)"
   ]
  },
  {
   "cell_type": "code",
   "execution_count": null,
   "id": "17da0115",
   "metadata": {},
   "outputs": [],
   "source": [
    "# example: to plot field area and center of mass, just define the repective colours and plot\n",
    "my_colours2 = ImageColours(target_area=None,\n",
    "                          field_area_positions=\"red\",\n",
    "                          field_area=\"green\",\n",
    "                          center_of_mass=\"purple\",\n",
    "                          center_of_positions=\"blue\",\n",
    "                          background=None,\n",
    "                          default_object_colour=\"darkmagenta\")\n",
    "pil_image.create(stimulus, colours=my_colours2)"
   ]
  },
  {
   "cell_type": "code",
   "execution_count": null,
   "id": "64d2c86d",
   "metadata": {},
   "outputs": [],
   "source": [
    "## to save the stimulus as vector graphic, generate a SVG stimuli\n",
    "# svg_stimulus = svg.create(stimulus, colours=my_colours, filename=\"demo.svg\")\n",
    "# svg_stimulus.save()"
   ]
  },
  {
   "cell_type": "markdown",
   "id": "fd8373bd",
   "metadata": {},
   "source": [
    "# Visual Features"
   ]
  },
  {
   "cell_type": "code",
   "execution_count": null,
   "id": "7f8cc4c8",
   "metadata": {},
   "outputs": [],
   "source": [
    "# show properties for the current stimulus\n",
    "print(stimulus)"
   ]
  },
  {
   "cell_type": "code",
   "execution_count": null,
   "id": "0094e328",
   "metadata": {},
   "outputs": [],
   "source": [
    "from pynsn import match\n",
    "\n",
    "# change surface array\n",
    "match.total_surface_area(stimulus, 23000)\n",
    "print(stimulus)"
   ]
  },
  {
   "cell_type": "code",
   "execution_count": null,
   "id": "2f0937a9",
   "metadata": {},
   "outputs": [],
   "source": [
    "figure = mpl_figure.create(stimulus, colours=my_colours2)\n",
    "pil_image.create(stimulus, colours=my_colours2)"
   ]
  },
  {
   "cell_type": "code",
   "execution_count": null,
   "id": "e4a186ae",
   "metadata": {},
   "outputs": [],
   "source": [
    "# realign dot arry to avoid overlap\n",
    "stimulus.realign()\n",
    "pil_image.create(stimulus, colours=my_colours)"
   ]
  },
  {
   "cell_type": "code",
   "execution_count": null,
   "id": "1028ad98",
   "metadata": {},
   "outputs": [],
   "source": [
    "# change log_size \n",
    "match.log_size(stimulus, 18)\n",
    "print(stimulus)"
   ]
  },
  {
   "cell_type": "code",
   "execution_count": null,
   "id": "02ab3aa7",
   "metadata": {},
   "outputs": [],
   "source": [
    "pil_image.create(stimulus, colours=my_colours)"
   ]
  },
  {
   "cell_type": "code",
   "execution_count": null,
   "id": "eda03c30",
   "metadata": {},
   "outputs": [],
   "source": [
    "# change spacing parameter (iterative procedure)\n",
    "match.log_spacing(stimulus, 24,  precision=0.01)\n",
    "print(stimulus)"
   ]
  },
  {
   "cell_type": "code",
   "execution_count": null,
   "id": "2c96ff7f",
   "metadata": {},
   "outputs": [],
   "source": [
    "# as you see the surface area and sparsity (1/density) is smaller\n",
    "pil_image.create(stimulus, colours=ImageColours(field_area=\"red\"))"
   ]
  },
  {
   "cell_type": "markdown",
   "id": "6c31b6de",
   "metadata": {},
   "source": [
    "# 2 matched stimuli"
   ]
  },
  {
   "cell_type": "code",
   "execution_count": null,
   "id": "c5aaea70",
   "metadata": {},
   "outputs": [],
   "source": [
    "my_colours = ImageColours(target_area=\"#EEEEEE\", \n",
    "                          default_object_colour=\"lime\") \n",
    "\n",
    "size_dist2 = random_array.SizeDistribution(diameter=distr.Normal(mu=13, sigma=4, min_max=(10,25)))\n",
    "\n",
    "stim1 = random_array.create(ref_array, size_dist, 30)\n",
    "stim2 = random_array.create(ref_array, size_dist2, 30)"
   ]
  },
  {
   "cell_type": "code",
   "execution_count": null,
   "id": "18d64ec0",
   "metadata": {},
   "outputs": [],
   "source": [
    "\n"
   ]
  },
  {
   "cell_type": "code",
   "execution_count": null,
   "id": "4b073e54",
   "metadata": {},
   "outputs": [],
   "source": []
  },
  {
   "cell_type": "code",
   "execution_count": null,
   "id": "12d99db6",
   "metadata": {},
   "outputs": [],
   "source": [
    "#ra_specs = factory.RectangleArraySpecs(\n",
    "#    target_area_radius=200,\n",
    "#    diameter_distribution=factory.distr.Normal(mu=13, sigma=4, min_max=(10,25)),\n",
    "#    minimum_gap=2)"
   ]
  },
  {
   "cell_type": "code",
   "execution_count": null,
   "id": "9868c240",
   "metadata": {},
   "outputs": [],
   "source": [
    "d = distr.Discrete(population=[\"red\", \"blue\"])"
   ]
  },
  {
   "cell_type": "code",
   "execution_count": null,
   "id": "dcc87a6d",
   "metadata": {},
   "outputs": [],
   "source": [
    "d.pyplot_samples()"
   ]
  },
  {
   "cell_type": "code",
   "execution_count": null,
   "id": "4e2ca2c1",
   "metadata": {},
   "outputs": [],
   "source": []
  }
 ],
 "metadata": {
  "kernelspec": {
   "display_name": "Python 3 (ipykernel)",
   "language": "python",
   "name": "python3"
  },
  "language_info": {
   "codemirror_mode": {
    "name": "ipython",
    "version": 3
   },
   "file_extension": ".py",
   "mimetype": "text/x-python",
   "name": "python",
   "nbconvert_exporter": "python",
   "pygments_lexer": "ipython3",
   "version": "3.8.10"
  }
 },
 "nbformat": 4,
 "nbformat_minor": 5
}
