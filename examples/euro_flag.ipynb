{
 "cells": [
  {
   "cell_type": "markdown",
   "id": "22a54670",
   "metadata": {},
   "source": [
    "# Image files"
   ]
  },
  {
   "cell_type": "code",
   "execution_count": 8,
   "id": "c137500c",
   "metadata": {},
   "outputs": [
    {
     "ename": "AttributeError",
     "evalue": "module 'pynsn.image' has no attribute 'pil_image'",
     "output_type": "error",
     "traceback": [
      "\u001b[0;31m---------------------------------------------------------------------------\u001b[0m",
      "\u001b[0;31mAttributeError\u001b[0m                            Traceback (most recent call last)",
      "Input \u001b[0;32mIn [8]\u001b[0m, in \u001b[0;36m<cell line: 15>\u001b[0;34m()\u001b[0m\n\u001b[1;32m     13\u001b[0m \u001b[38;5;66;03m# showing\u001b[39;00m\n\u001b[1;32m     14\u001b[0m euro_col \u001b[38;5;241m=\u001b[39m nsn\u001b[38;5;241m.\u001b[39mimage\u001b[38;5;241m.\u001b[39mImageColours(target_area\u001b[38;5;241m=\u001b[39m\u001b[38;5;124m\"\u001b[39m\u001b[38;5;124m#003399\u001b[39m\u001b[38;5;124m\"\u001b[39m, background\u001b[38;5;241m=\u001b[39m\u001b[38;5;124m\"\u001b[39m\u001b[38;5;124m#003399\u001b[39m\u001b[38;5;124m\"\u001b[39m)\n\u001b[0;32m---> 15\u001b[0m \u001b[43mnsn\u001b[49m\u001b[38;5;241;43m.\u001b[39;49m\u001b[43mimage\u001b[49m\u001b[38;5;241;43m.\u001b[39;49m\u001b[43mpil_image\u001b[49m\u001b[38;5;241m.\u001b[39mcreate(euro_array, euro_col)\n",
      "\u001b[0;31mAttributeError\u001b[0m: module 'pynsn.image' has no attribute 'pil_image'"
     ]
    }
   ],
   "source": [
    "import numpy as np\n",
    "import pynsn as nsn\n",
    "\n",
    "euro_array = nsn.RectangleArray(target_area_radius=200, min_dist_between=1)\n",
    "# adding eurostar pictures 12 times\n",
    "for x in np.linspace(start=0, stop=2*np.pi, num=12+1):\n",
    "    if x < 2*np.pi:\n",
    "        pos = np.sin(x)*140, np.cos(x)*140\n",
    "        pict = nsn.Rectangle(xy=pos, size=(40, 40), \n",
    "                             attribute=nsn.PictureFile(\"eurostar.png\"))\n",
    "        euro_array.add(pict)\n",
    "\n",
    "# showing\n",
    "euro_col = nsn.image.ImageColours(target_area=\"#003399\", background=\"#003399\")\n",
    "nsn.image.pil_image.create(euro_array, euro_col)"
   ]
  },
  {
   "cell_type": "code",
   "execution_count": null,
   "id": "ba62657d",
   "metadata": {},
   "outputs": [],
   "source": [
    "euro_array.shuffle_all_positions()\n",
    "pil_image.create(euro_array, euro_col)"
   ]
  },
  {
   "cell_type": "code",
   "execution_count": null,
   "id": "6f268f46",
   "metadata": {},
   "outputs": [],
   "source": [
    "from pynsn import random_array\n",
    "from pynsn.distributions import Discrete\n",
    "\n",
    "sizes = random_array.SizeDistribution(width=Discrete((10, 20, 30, 40)), \n",
    "                                      rectangle_proportion=1)\n",
    "euro_array = random_array.create(euro_array, sizes, n_objects=12,\n",
    "                                 attributes=shapes.picture_attr(\"eurostar.png\"))\n",
    "pil_image.create(euro_array, euro_col)"
   ]
  },
  {
   "cell_type": "code",
   "execution_count": null,
   "id": "76c796dc",
   "metadata": {},
   "outputs": [],
   "source": []
  }
 ],
 "metadata": {
  "kernelspec": {
   "display_name": "Python 3 (ipykernel)",
   "language": "python",
   "name": "python3"
  },
  "language_info": {
   "codemirror_mode": {
    "name": "ipython",
    "version": 3
   },
   "file_extension": ".py",
   "mimetype": "text/x-python",
   "name": "python",
   "nbconvert_exporter": "python",
   "pygments_lexer": "ipython3",
   "version": "3.8.10"
  }
 },
 "nbformat": 4,
 "nbformat_minor": 5
}
