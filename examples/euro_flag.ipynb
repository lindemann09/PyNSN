{
 "cells": [
  {
   "cell_type": "markdown",
   "id": "22a54670",
   "metadata": {},
   "source": [
    "# Image files"
   ]
  },
  {
   "cell_type": "code",
   "execution_count": null,
   "id": "c137500c",
   "metadata": {},
   "outputs": [],
   "source": [
    "import numpy as np\n",
    "import pynsn as nsn\n",
    "from pynsn.image import pil_image\n",
    "\n",
    "euro_array = nsn.RectangleArray(target_area_radius=200, min_dist_between=1)\n",
    "# adding eurostar pictures 12 times\n",
    "for x in np.linspace(start=0, stop=2*np.pi, num=12+1):\n",
    "    if x < 2*np.pi:\n",
    "        pos = np.sin(x)*140, np.cos(x)*140\n",
    "        pict = nsn.Rectangle(xy=pos, size=(40, 40), \n",
    "                             attribute=nsn.PictureFile(\"eurostar.png\"))\n",
    "        euro_array.add(pict)\n",
    "\n",
    "# showing\n",
    "euro_col = nsn.ImageColours(target_area=\"#003399\", background=\"#003399\")\n",
    "pil_image.create(euro_array, euro_col)"
   ]
  },
  {
   "cell_type": "code",
   "execution_count": null,
   "id": "ba62657d",
   "metadata": {},
   "outputs": [],
   "source": [
    "euro_array.shuffle_all_positions()\n",
    "pil_image.create(euro_array, euro_col)"
   ]
  },
  {
   "cell_type": "code",
   "execution_count": null,
   "id": "6f268f46",
   "metadata": {},
   "outputs": [],
   "source": [
    "from pynsn.distributions import Discrete\n",
    "sizes = nsn.random_array.SizeDistribution(width=Discrete((10, 20, 30, 40)), \n",
    "                                      rectangle_proportion=1)\n",
    "euro_array = nsn.random_array.create(euro_array, sizes, n_objects=12,\n",
    "                                 attributes=nsn.PictureFile(\"eurostar.png\"))\n",
    "pil_image.create(euro_array, euro_col)"
   ]
  },
  {
   "cell_type": "code",
   "execution_count": null,
   "id": "76c796dc",
   "metadata": {},
   "outputs": [],
   "source": []
  }
 ],
 "metadata": {
  "kernelspec": {
   "display_name": "Python 3 (ipykernel)",
   "language": "python",
   "name": "python3"
  },
  "language_info": {
   "codemirror_mode": {
    "name": "ipython",
    "version": 3
   },
   "file_extension": ".py",
   "mimetype": "text/x-python",
   "name": "python",
   "nbconvert_exporter": "python",
   "pygments_lexer": "ipython3",
   "version": "3.8.10"
  }
 },
 "nbformat": 4,
 "nbformat_minor": 5
}
