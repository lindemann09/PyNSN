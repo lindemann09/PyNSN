{
 "cells": [
  {
   "cell_type": "code",
   "execution_count": null,
   "id": "ec9d6154",
   "metadata": {},
   "outputs": [],
   "source": [
    "from pynsn import arrays, shapes\n",
    "\n",
    "dot_array = arrays.DotArray(target_area_radius=100)\n",
    "dot_array.add( [shapes.Dot(xy=(-65, 50), diameter=20, attribute=\"green\"),\n",
    "                shapes.Dot(xy=(25, 35), diameter=25, attribute=\"blue\"),\n",
    "                shapes.Dot(xy=(60, -50), diameter=12, attribute=\"darkmagenta\"),\n",
    "                shapes.Dot(xy=(-40, -20), diameter=37, attribute=\"orange\"),\n",
    "                shapes.Dot(xy=(-10, -5), diameter=14, attribute=\"black\")])"
   ]
  },
  {
   "cell_type": "markdown",
   "id": "00f7a3b9",
   "metadata": {},
   "source": [
    "Plotting"
   ]
  },
  {
   "cell_type": "code",
   "execution_count": null,
   "id": "c6270fc0",
   "metadata": {},
   "outputs": [],
   "source": [
    "from pynsn.image import pil_image, ImageColours\n",
    "\n",
    "my_colours = ImageColours(target_area=\"#EEEEEE\",  background=\"black\") \n",
    "pil_image.create(dot_array, colours=my_colours)"
   ]
  },
  {
   "cell_type": "code",
   "execution_count": null,
   "id": "d3936a5b",
   "metadata": {},
   "outputs": [],
   "source": [
    "print(dot_array)"
   ]
  },
  {
   "cell_type": "code",
   "execution_count": null,
   "id": "d7502f23",
   "metadata": {},
   "outputs": [],
   "source": [
    "my_colours = ImageColours(target_area=\"#EEEEEE\") \n",
    "pil_image.create(dot_array, colours=my_colours)"
   ]
  }
 ],
 "metadata": {
  "kernelspec": {
   "display_name": "Python 3 (ipykernel)",
   "language": "python",
   "name": "python3"
  },
  "language_info": {
   "codemirror_mode": {
    "name": "ipython",
    "version": 3
   },
   "file_extension": ".py",
   "mimetype": "text/x-python",
   "name": "python",
   "nbconvert_exporter": "python",
   "pygments_lexer": "ipython3",
   "version": "3.8.10"
  }
 },
 "nbformat": 4,
 "nbformat_minor": 5
}
